{
 "cells": [
  {
   "attachments": {},
   "cell_type": "markdown",
   "id": "c25fd9d7-2ed6-4eab-94fd-356e611f057a",
   "metadata": {},
   "source": [
    "# Task 2 Notebook\n",
    "\n",
    "Use this notebook to work using our tool - the chatbot on the right pane. If you accidently close it, click on ![](https://raw.githubusercontent.com/EPICLab/DSChatbot/main/style/img/newtonchat.svg) (right toolbar)\n",
    "\n",
    "Now you have to implement a program that calculates the perimeter and the area of a rectangle. **Fill in the incomplete pseudo-code below and convert it into a Python program.**\n",
    "\n",
    "Suggestion of input values: \n",
    "\n",
    "- Length: 4.6\n",
    "- Width: 5"
   ]
  },
  {
   "cell_type": "code",
   "execution_count": null,
   "id": "aa7ff102-5963-4f67-acee-0166dc5e56bb",
   "metadata": {},
   "outputs": [],
   "source": [
    "# Ask the user to enter the length of the rectangle."
   ]
  },
  {
   "cell_type": "code",
   "execution_count": null,
   "id": "f1287df3",
   "metadata": {},
   "outputs": [],
   "source": [
    "# Convert the value to a float."
   ]
  },
  {
   "cell_type": "code",
   "execution_count": null,
   "id": "db4e0846",
   "metadata": {},
   "outputs": [],
   "source": [
    "# Ask the user __________"
   ]
  },
  {
   "cell_type": "code",
   "execution_count": null,
   "id": "18e7d3b0",
   "metadata": {},
   "outputs": [],
   "source": [
    "# __________"
   ]
  },
  {
   "cell_type": "code",
   "execution_count": null,
   "id": "d502d9a2",
   "metadata": {},
   "outputs": [],
   "source": [
    "# Calculate the perimeter of the rectangle using the formula 2 * (length + width)"
   ]
  },
  {
   "cell_type": "code",
   "execution_count": null,
   "id": "3724c55c",
   "metadata": {},
   "outputs": [],
   "source": [
    "# Display the result of the perimeter to the user"
   ]
  },
  {
   "cell_type": "code",
   "execution_count": null,
   "id": "0e77943b",
   "metadata": {},
   "outputs": [],
   "source": [
    "# __________"
   ]
  },
  {
   "cell_type": "code",
   "execution_count": null,
   "id": "f8a6014b",
   "metadata": {},
   "outputs": [],
   "source": [
    "# Display the result of the area to the user"
   ]
  }
 ],
 "metadata": {
  "kernelspec": {
   "display_name": "Python 3 (ipykernel)",
   "language": "python",
   "name": "python3"
  },
  "language_info": {
   "codemirror_mode": {
    "name": "ipython",
    "version": 3
   },
   "file_extension": ".py",
   "mimetype": "text/x-python",
   "name": "python",
   "nbconvert_exporter": "python",
   "pygments_lexer": "ipython3",
   "version": "3.10.4"
  }
 },
 "nbformat": 4,
 "nbformat_minor": 5
}
