{
 "cells": [
  {
   "attachments": {},
   "cell_type": "markdown",
   "id": "c25fd9d7-2ed6-4eab-94fd-356e611f057a",
   "metadata": {},
   "source": [
    "# Task 1 Notebook\n",
    "\n",
    "Use this notebook to work using our tool - the chatbot on the right pane. If you accidently close it, click on ![](https://raw.githubusercontent.com/EPICLab/DSChatbot/main/style/img/newtonchat.svg) (right toolbar)\n",
    "\n",
    "Here is the pseudocode of an algorithm that asks the user to enter their height and weight, calculates and display their BMI. **Please, copy line by line to the chatbot to convert it into Python.**\n",
    "\n",
    "Suggestion of input values: \n",
    "- Height: 1.9\n",
    "- Weight: 100"
   ]
  },
  {
   "cell_type": "code",
   "execution_count": null,
   "id": "aa7ff102-5963-4f67-acee-0166dc5e56bb",
   "metadata": {},
   "outputs": [],
   "source": [
    "# Ask the user to provide their height in meters."
   ]
  },
  {
   "cell_type": "code",
   "execution_count": null,
   "id": "a20fb7e2",
   "metadata": {},
   "outputs": [],
   "source": [
    "# Convert it to a float"
   ]
  },
  {
   "cell_type": "code",
   "execution_count": null,
   "id": "b5533f3c",
   "metadata": {},
   "outputs": [],
   "source": [
    "# Ask the user to provide their weight in kilograms."
   ]
  },
  {
   "cell_type": "code",
   "execution_count": null,
   "id": "a44f4ff8",
   "metadata": {},
   "outputs": [],
   "source": [
    "# Convert it to a float"
   ]
  },
  {
   "cell_type": "code",
   "execution_count": null,
   "id": "9610a88b",
   "metadata": {},
   "outputs": [],
   "source": [
    "# Calculate the BMI using the formula: weight / (height * height)"
   ]
  },
  {
   "cell_type": "code",
   "execution_count": null,
   "id": "6223cc24",
   "metadata": {},
   "outputs": [],
   "source": [
    "# Display the user's BMI to the user"
   ]
  }
 ],
 "metadata": {
  "kernelspec": {
   "display_name": "Python 3 (ipykernel)",
   "language": "python",
   "name": "python3"
  },
  "language_info": {
   "codemirror_mode": {
    "name": "ipython",
    "version": 3
   },
   "file_extension": ".py",
   "mimetype": "text/x-python",
   "name": "python",
   "nbconvert_exporter": "python",
   "pygments_lexer": "ipython3",
   "version": "3.10.4"
  }
 },
 "nbformat": 4,
 "nbformat_minor": 5
}
